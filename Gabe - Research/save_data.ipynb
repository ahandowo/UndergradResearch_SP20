{
 "cells": [
  {
   "cell_type": "markdown",
   "metadata": {},
   "source": [
    "This notebook goes through a previous file called \"news.csv\" that contains a list of news urls and their frequency"
   ]
  },
  {
   "cell_type": "code",
   "execution_count": 1,
   "metadata": {},
   "outputs": [],
   "source": [
    "from goose3 import Goose\n",
    "from goose3.configuration import Configuration\n",
    "import pandas as pd\n",
    "import csv\n",
    "\n",
    "config = Configuration()\n",
    "config.strict = False\n",
    "config.browser_user_agent = 'Chrome'\n",
    "config.http_timeout = 70.05\n",
    "\n",
    "g = Goose(config)\n",
    "short = pd.read_csv('news.csv')             # read in csv\n",
    "reader = csv.reader(short, delimiter = ',') # denotes separate in csv\n",
    "article_data = []                           # initialize empty dictionary"
   ]
  },
  {
   "cell_type": "markdown",
   "metadata": {},
   "source": [
    "From here, the code will loop through the each row and grab the article URLs.  For each article, it will store the following:\n",
    "\n",
    "    1) Article Title\n",
    "    2) Author \n",
    "    3) Publication Date\n",
    "    4) Body of Article"
   ]
  },
  {
   "cell_type": "code",
   "execution_count": 2,
   "metadata": {},
   "outputs": [
    {
     "name": "stdout",
     "output_type": "stream",
     "text": [
      "\n",
      "\n",
      "End of File\n",
      "\n"
     ]
    }
   ],
   "source": [
    "# read in each row of the file\n",
    "urls = short[\"Unnamed: 0\"]\n",
    "count = 1\n",
    "for url in urls:\n",
    "    if count == 400: \n",
    "        break\n",
    "    count += 1\n",
    "    # articles with these urls give errors when trying to access them\n",
    "    if \"latimes.com\" in url or \"usat.ly\" in url:\n",
    "        pass\n",
    "    else:\n",
    "#         print(\"Line \", count, \" \", url)\n",
    "        article = g.extract(url)            # grabs only the URL in the first column\n",
    "        article_data.append({'url': url, \n",
    "                             'title': article.title, \n",
    "                             'author': article.authors, \n",
    "                             'date': article.publish_date, \n",
    "                             'body': article.cleaned_text})\n",
    "    \n",
    "    \n",
    "print(\"\\n\\nEnd of File\\n\")\n",
    "g.close()"
   ]
  },
  {
   "cell_type": "markdown",
   "metadata": {},
   "source": [
    "Now that all of the data is stored in a dictionary, we will store it in a CSV so that we can perform analysis on it later on."
   ]
  },
  {
   "cell_type": "code",
   "execution_count": 3,
   "metadata": {},
   "outputs": [
    {
     "name": "stdout",
     "output_type": "stream",
     "text": [
      "End of program\n"
     ]
    }
   ],
   "source": [
    "csv_col = ['url', 'title', 'author', 'date', 'body']\n",
    "csv_file = \"article_data.csv\"\n",
    "try:\n",
    "    with open(csv_file, 'w', encoding='utf-8') as csvfile:\n",
    "        writer = csv.DictWriter(csvfile, fieldnames=csv_col)\n",
    "        writer.writeheader()\n",
    "        for data in article_data:\n",
    "            writer.writerow(data)\n",
    "except IOError:\n",
    "    print(\"I/O Error\")\n",
    "    \n",
    "\n",
    "print(\"End of program\")"
   ]
  },
  {
   "cell_type": "code",
   "execution_count": null,
   "metadata": {},
   "outputs": [],
   "source": []
  }
 ],
 "metadata": {
  "kernelspec": {
   "display_name": "Python 3",
   "language": "python",
   "name": "python3"
  },
  "language_info": {
   "codemirror_mode": {
    "name": "ipython",
    "version": 3
   },
   "file_extension": ".py",
   "mimetype": "text/x-python",
   "name": "python",
   "nbconvert_exporter": "python",
   "pygments_lexer": "ipython3",
   "version": "3.8.1"
  }
 },
 "nbformat": 4,
 "nbformat_minor": 4
}
